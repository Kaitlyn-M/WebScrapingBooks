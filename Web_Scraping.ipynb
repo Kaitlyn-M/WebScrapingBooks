{
  "nbformat": 4,
  "nbformat_minor": 0,
  "metadata": {
    "colab": {
      "provenance": []
    },
    "kernelspec": {
      "name": "python3",
      "display_name": "Python 3"
    },
    "language_info": {
      "name": "python"
    }
  },
  "cells": [
    {
      "cell_type": "code",
      "source": [
        "# Beautiful soup parses HTML\n",
        "from bs4 import BeautifulSoup\n",
        "# Requests allows getting of website requests\n",
        "import requests\n",
        "# Books to scrape link\n",
        "books_to_scrape = \"https://books.toscrape.com/\"\n",
        "# Parse into HTML\n",
        "parsed_data = requests.get(books_to_scrape)\n",
        "# Text of parsed data\n",
        "data = parsed_data.text\n",
        "# Organizes data into readable format\n",
        "data_bs = BeautifulSoup(data, \"html.parser\")"
      ],
      "metadata": {
        "id": "aEE3zea0GkqB"
      },
      "execution_count": 2,
      "outputs": []
    },
    {
      "cell_type": "code",
      "source": [
        "# Get book titles\n",
        "book_titles = data_bs.find_all('h3')\n",
        "# Empty titles list\n",
        "titles = []\n",
        "\n",
        "# Loop each title in book_titles\n",
        "for title in book_titles:\n",
        "  # Find 'a' tag of each title\n",
        "    title_link = title.find('a')\n",
        "    # Execute if a tag exists\n",
        "    if title_link:\n",
        "        # Get title link text and strip it\n",
        "        book_name = title_link.text.strip()\n",
        "        # Append book name to titles list\n",
        "        titles.append(book_name)"
      ],
      "metadata": {
        "id": "4XedEwI8eVLK"
      },
      "execution_count": 3,
      "outputs": []
    },
    {
      "cell_type": "code",
      "source": [
        "# Get ratings HTML class\n",
        "select_class = \"star-rating\"\n",
        "# Get book ratings\n",
        "book_ratings = data_bs.find_all('p', {'class': select_class})\n",
        "# Empty ratings list\n",
        "ratings = []\n",
        "# Dictionary that maps names to numbers\n",
        "rating_dict = {\n",
        "    'One': 1,\n",
        "    'Two': 2,\n",
        "    'Three': 3,\n",
        "    'Four': 4,\n",
        "    'Five': 5\n",
        "}\n",
        "\n",
        "# Loop each rating in book_ratings\n",
        "for rating in book_ratings:\n",
        "  # Get rating name based on class 2nd element\n",
        "  rating_name = rating['class'][1]\n",
        "  # Convert name to number\n",
        "  rating_number = rating_dict.get(rating_name)\n",
        "  # Append rating number to ratings list\n",
        "  ratings.append(rating_number)"
      ],
      "metadata": {
        "id": "lI9KVoEvh4Ju"
      },
      "execution_count": 4,
      "outputs": []
    },
    {
      "cell_type": "code",
      "source": [
        "# Get price HTML class\n",
        "select_class = \"price_color\"\n",
        "# Get book prices\n",
        "book_prices = data_bs.find_all('p', {'class': select_class})\n",
        "# Empty prices list\n",
        "prices = []\n",
        "\n",
        "# Loop each price in book_prices\n",
        "for price in book_prices:\n",
        "   # Price number is price text\n",
        "   price_number = float(price.text[2:])\n",
        "   # Append price number to prices list\n",
        "   prices.append(price_number)"
      ],
      "metadata": {
        "id": "P0uHY0t4h8KJ"
      },
      "execution_count": 25,
      "outputs": []
    },
    {
      "cell_type": "code",
      "source": [
        "# Get availability HTML class\n",
        "select_class = \"instock availability\"\n",
        "# Get book availabilities\n",
        "book_availabilities = data_bs.find_all('p', {'class': select_class})\n",
        "# Empty availabilities list\n",
        "availabilities = []\n",
        "\n",
        "# Loop each availability in book_availabilities\n",
        "for availability in book_availabilities:\n",
        "   # Availability status is stripped availability text\n",
        "   availability_status = availability.text.strip()\n",
        "   # Append availability status to availabilities list\n",
        "   availabilities.append(availability_status)"
      ],
      "metadata": {
        "id": "iRwOBIMyh_yn"
      },
      "execution_count": 6,
      "outputs": []
    },
    {
      "cell_type": "code",
      "source": [
        "# Import pandas as pd for data science\n",
        "import pandas as pd\n",
        "# Dataframe dictionary of labels and values\n",
        "dataframe = {\n",
        "    \"Titles\": titles,\n",
        "    \"Ratings\": ratings,\n",
        "    \"Prices (£)\": prices,\n",
        "    \"Availabilities\": availabilities\n",
        "}\n",
        "# Create dataframe from webscraped features\n",
        "df = pd.DataFrame(dataframe)"
      ],
      "metadata": {
        "id": "aU0OTJWCnV0c"
      },
      "execution_count": 26,
      "outputs": []
    },
    {
      "cell_type": "markdown",
      "source": [
        "What is the size of the dataset?"
      ],
      "metadata": {
        "id": "dF4yxzoXXYd2"
      }
    },
    {
      "cell_type": "code",
      "execution_count": 19,
      "metadata": {
        "id": "dJK_hvReWJmL",
        "colab": {
          "base_uri": "https://localhost:8080/"
        },
        "outputId": "b3d68074-18b9-41f2-ba6c-cfd81ca44178"
      },
      "outputs": [
        {
          "output_type": "stream",
          "name": "stdout",
          "text": [
            "80\n"
          ]
        }
      ],
      "source": [
        "# Size of dataset\n",
        "print(df.size)"
      ]
    },
    {
      "cell_type": "markdown",
      "source": [
        "What are the names and data types of each column?"
      ],
      "metadata": {
        "id": "XhusmG0uYAj_"
      }
    },
    {
      "cell_type": "code",
      "source": [
        "# Names and data types of each column\n",
        "print(df.dtypes)"
      ],
      "metadata": {
        "id": "nx0fnXEdXPlc",
        "colab": {
          "base_uri": "https://localhost:8080/"
        },
        "outputId": "d656a4c9-ba66-4af3-f16f-a88d5c9f0371"
      },
      "execution_count": 27,
      "outputs": [
        {
          "output_type": "stream",
          "name": "stdout",
          "text": [
            "Titles             object\n",
            "Ratings             int64\n",
            "Prices (£)        float64\n",
            "Availabilities     object\n",
            "dtype: object\n"
          ]
        }
      ]
    },
    {
      "cell_type": "markdown",
      "source": [
        "How many unique values are there for each categorical variable?"
      ],
      "metadata": {
        "id": "7c9lzW00YDai"
      }
    },
    {
      "cell_type": "code",
      "source": [
        "# Number of unique values for each categorical variable\n",
        "print(df.nunique())"
      ],
      "metadata": {
        "id": "s4v-xJuSXPub",
        "colab": {
          "base_uri": "https://localhost:8080/"
        },
        "outputId": "7eb00ca8-aa7e-4add-984f-22265d63dc72"
      },
      "execution_count": 30,
      "outputs": [
        {
          "output_type": "stream",
          "name": "stdout",
          "text": [
            "Titles            20\n",
            "Ratings            5\n",
            "Prices (£)        20\n",
            "Availabilities     1\n",
            "dtype: int64\n"
          ]
        }
      ]
    },
    {
      "cell_type": "markdown",
      "source": [
        "If there is any numerical value in the dataset, what are the minimum and maximum values for it?"
      ],
      "metadata": {
        "id": "sUKghWHEYETS"
      }
    },
    {
      "cell_type": "code",
      "source": [
        "# Minimum and maximum values of ratings\n",
        "ratings_stats = df['Ratings'].agg(['min', 'max'])\n",
        "# Display ratings min and max\n",
        "print(\"Ratings\\n\" + str(ratings_stats))\n",
        "# Minimum and maximum values of prices\n",
        "prices_stats = df['Prices (£)'].agg(['min', 'max'])\n",
        "# Display prices min and max\n",
        "print(\"\\nPrices (£)\\n\" + str(prices_stats))"
      ],
      "metadata": {
        "id": "q1a31KNuXQMI",
        "colab": {
          "base_uri": "https://localhost:8080/"
        },
        "outputId": "272b8bb0-7c42-439b-a601-4dc5af53508b"
      },
      "execution_count": 43,
      "outputs": [
        {
          "output_type": "stream",
          "name": "stdout",
          "text": [
            "Ratings\n",
            "min    1\n",
            "max    5\n",
            "Name: Ratings, dtype: int64\n",
            "\n",
            "Prices (£)\n",
            "min    13.99\n",
            "max    57.25\n",
            "Name: Prices (£), dtype: float64\n"
          ]
        }
      ]
    },
    {
      "cell_type": "markdown",
      "source": [
        "Drop rows that have missing values"
      ],
      "metadata": {
        "id": "GTwkLn2-YE0F"
      }
    },
    {
      "cell_type": "code",
      "source": [
        "# Drop rows with missing values\n",
        "df.dropna()"
      ],
      "metadata": {
        "id": "RB-OmLg5XQUv",
        "colab": {
          "base_uri": "https://localhost:8080/",
          "height": 677
        },
        "outputId": "04788eba-ac81-4c6f-f8a5-2a9ae52e8476"
      },
      "execution_count": 37,
      "outputs": [
        {
          "output_type": "execute_result",
          "data": {
            "text/plain": [
              "                                   Titles  Ratings  Prices (£) Availabilities\n",
              "0                      A Light in the ...        3       51.77       In stock\n",
              "1                      Tipping the Velvet        1       53.74       In stock\n",
              "2                              Soumission        1       50.10       In stock\n",
              "3                           Sharp Objects        4       47.82       In stock\n",
              "4            Sapiens: A Brief History ...        5       54.23       In stock\n",
              "5                         The Requiem Red        1       22.65       In stock\n",
              "6            The Dirty Little Secrets ...        4       33.34       In stock\n",
              "7                 The Coming Woman: A ...        3       17.93       In stock\n",
              "8                     The Boys in the ...        4       22.60       In stock\n",
              "9                         The Black Maria        1       52.15       In stock\n",
              "10  Starving Hearts (Triangular Trade ...        2       13.99       In stock\n",
              "11                  Shakespeare's Sonnets        4       20.66       In stock\n",
              "12                            Set Me Free        5       17.46       In stock\n",
              "13    Scott Pilgrim's Precious Little ...        5       52.29       In stock\n",
              "14                      Rip it Up and ...        5       35.02       In stock\n",
              "15                  Our Band Could Be ...        3       57.25       In stock\n",
              "16                                   Olio        1       23.88       In stock\n",
              "17        Mesaerion: The Best Science ...        1       37.59       In stock\n",
              "18           Libertarianism for Beginners        2       51.33       In stock\n",
              "19                It's Only the Himalayas        2       45.17       In stock"
            ],
            "text/html": [
              "\n",
              "  <div id=\"df-39c24767-84ce-4441-977f-fd96cc629680\" class=\"colab-df-container\">\n",
              "    <div>\n",
              "<style scoped>\n",
              "    .dataframe tbody tr th:only-of-type {\n",
              "        vertical-align: middle;\n",
              "    }\n",
              "\n",
              "    .dataframe tbody tr th {\n",
              "        vertical-align: top;\n",
              "    }\n",
              "\n",
              "    .dataframe thead th {\n",
              "        text-align: right;\n",
              "    }\n",
              "</style>\n",
              "<table border=\"1\" class=\"dataframe\">\n",
              "  <thead>\n",
              "    <tr style=\"text-align: right;\">\n",
              "      <th></th>\n",
              "      <th>Titles</th>\n",
              "      <th>Ratings</th>\n",
              "      <th>Prices (£)</th>\n",
              "      <th>Availabilities</th>\n",
              "    </tr>\n",
              "  </thead>\n",
              "  <tbody>\n",
              "    <tr>\n",
              "      <th>0</th>\n",
              "      <td>A Light in the ...</td>\n",
              "      <td>3</td>\n",
              "      <td>51.77</td>\n",
              "      <td>In stock</td>\n",
              "    </tr>\n",
              "    <tr>\n",
              "      <th>1</th>\n",
              "      <td>Tipping the Velvet</td>\n",
              "      <td>1</td>\n",
              "      <td>53.74</td>\n",
              "      <td>In stock</td>\n",
              "    </tr>\n",
              "    <tr>\n",
              "      <th>2</th>\n",
              "      <td>Soumission</td>\n",
              "      <td>1</td>\n",
              "      <td>50.10</td>\n",
              "      <td>In stock</td>\n",
              "    </tr>\n",
              "    <tr>\n",
              "      <th>3</th>\n",
              "      <td>Sharp Objects</td>\n",
              "      <td>4</td>\n",
              "      <td>47.82</td>\n",
              "      <td>In stock</td>\n",
              "    </tr>\n",
              "    <tr>\n",
              "      <th>4</th>\n",
              "      <td>Sapiens: A Brief History ...</td>\n",
              "      <td>5</td>\n",
              "      <td>54.23</td>\n",
              "      <td>In stock</td>\n",
              "    </tr>\n",
              "    <tr>\n",
              "      <th>5</th>\n",
              "      <td>The Requiem Red</td>\n",
              "      <td>1</td>\n",
              "      <td>22.65</td>\n",
              "      <td>In stock</td>\n",
              "    </tr>\n",
              "    <tr>\n",
              "      <th>6</th>\n",
              "      <td>The Dirty Little Secrets ...</td>\n",
              "      <td>4</td>\n",
              "      <td>33.34</td>\n",
              "      <td>In stock</td>\n",
              "    </tr>\n",
              "    <tr>\n",
              "      <th>7</th>\n",
              "      <td>The Coming Woman: A ...</td>\n",
              "      <td>3</td>\n",
              "      <td>17.93</td>\n",
              "      <td>In stock</td>\n",
              "    </tr>\n",
              "    <tr>\n",
              "      <th>8</th>\n",
              "      <td>The Boys in the ...</td>\n",
              "      <td>4</td>\n",
              "      <td>22.60</td>\n",
              "      <td>In stock</td>\n",
              "    </tr>\n",
              "    <tr>\n",
              "      <th>9</th>\n",
              "      <td>The Black Maria</td>\n",
              "      <td>1</td>\n",
              "      <td>52.15</td>\n",
              "      <td>In stock</td>\n",
              "    </tr>\n",
              "    <tr>\n",
              "      <th>10</th>\n",
              "      <td>Starving Hearts (Triangular Trade ...</td>\n",
              "      <td>2</td>\n",
              "      <td>13.99</td>\n",
              "      <td>In stock</td>\n",
              "    </tr>\n",
              "    <tr>\n",
              "      <th>11</th>\n",
              "      <td>Shakespeare's Sonnets</td>\n",
              "      <td>4</td>\n",
              "      <td>20.66</td>\n",
              "      <td>In stock</td>\n",
              "    </tr>\n",
              "    <tr>\n",
              "      <th>12</th>\n",
              "      <td>Set Me Free</td>\n",
              "      <td>5</td>\n",
              "      <td>17.46</td>\n",
              "      <td>In stock</td>\n",
              "    </tr>\n",
              "    <tr>\n",
              "      <th>13</th>\n",
              "      <td>Scott Pilgrim's Precious Little ...</td>\n",
              "      <td>5</td>\n",
              "      <td>52.29</td>\n",
              "      <td>In stock</td>\n",
              "    </tr>\n",
              "    <tr>\n",
              "      <th>14</th>\n",
              "      <td>Rip it Up and ...</td>\n",
              "      <td>5</td>\n",
              "      <td>35.02</td>\n",
              "      <td>In stock</td>\n",
              "    </tr>\n",
              "    <tr>\n",
              "      <th>15</th>\n",
              "      <td>Our Band Could Be ...</td>\n",
              "      <td>3</td>\n",
              "      <td>57.25</td>\n",
              "      <td>In stock</td>\n",
              "    </tr>\n",
              "    <tr>\n",
              "      <th>16</th>\n",
              "      <td>Olio</td>\n",
              "      <td>1</td>\n",
              "      <td>23.88</td>\n",
              "      <td>In stock</td>\n",
              "    </tr>\n",
              "    <tr>\n",
              "      <th>17</th>\n",
              "      <td>Mesaerion: The Best Science ...</td>\n",
              "      <td>1</td>\n",
              "      <td>37.59</td>\n",
              "      <td>In stock</td>\n",
              "    </tr>\n",
              "    <tr>\n",
              "      <th>18</th>\n",
              "      <td>Libertarianism for Beginners</td>\n",
              "      <td>2</td>\n",
              "      <td>51.33</td>\n",
              "      <td>In stock</td>\n",
              "    </tr>\n",
              "    <tr>\n",
              "      <th>19</th>\n",
              "      <td>It's Only the Himalayas</td>\n",
              "      <td>2</td>\n",
              "      <td>45.17</td>\n",
              "      <td>In stock</td>\n",
              "    </tr>\n",
              "  </tbody>\n",
              "</table>\n",
              "</div>\n",
              "    <div class=\"colab-df-buttons\">\n",
              "\n",
              "  <div class=\"colab-df-container\">\n",
              "    <button class=\"colab-df-convert\" onclick=\"convertToInteractive('df-39c24767-84ce-4441-977f-fd96cc629680')\"\n",
              "            title=\"Convert this dataframe to an interactive table.\"\n",
              "            style=\"display:none;\">\n",
              "\n",
              "  <svg xmlns=\"http://www.w3.org/2000/svg\" height=\"24px\" viewBox=\"0 -960 960 960\">\n",
              "    <path d=\"M120-120v-720h720v720H120Zm60-500h600v-160H180v160Zm220 220h160v-160H400v160Zm0 220h160v-160H400v160ZM180-400h160v-160H180v160Zm440 0h160v-160H620v160ZM180-180h160v-160H180v160Zm440 0h160v-160H620v160Z\"/>\n",
              "  </svg>\n",
              "    </button>\n",
              "\n",
              "  <style>\n",
              "    .colab-df-container {\n",
              "      display:flex;\n",
              "      gap: 12px;\n",
              "    }\n",
              "\n",
              "    .colab-df-convert {\n",
              "      background-color: #E8F0FE;\n",
              "      border: none;\n",
              "      border-radius: 50%;\n",
              "      cursor: pointer;\n",
              "      display: none;\n",
              "      fill: #1967D2;\n",
              "      height: 32px;\n",
              "      padding: 0 0 0 0;\n",
              "      width: 32px;\n",
              "    }\n",
              "\n",
              "    .colab-df-convert:hover {\n",
              "      background-color: #E2EBFA;\n",
              "      box-shadow: 0px 1px 2px rgba(60, 64, 67, 0.3), 0px 1px 3px 1px rgba(60, 64, 67, 0.15);\n",
              "      fill: #174EA6;\n",
              "    }\n",
              "\n",
              "    .colab-df-buttons div {\n",
              "      margin-bottom: 4px;\n",
              "    }\n",
              "\n",
              "    [theme=dark] .colab-df-convert {\n",
              "      background-color: #3B4455;\n",
              "      fill: #D2E3FC;\n",
              "    }\n",
              "\n",
              "    [theme=dark] .colab-df-convert:hover {\n",
              "      background-color: #434B5C;\n",
              "      box-shadow: 0px 1px 3px 1px rgba(0, 0, 0, 0.15);\n",
              "      filter: drop-shadow(0px 1px 2px rgba(0, 0, 0, 0.3));\n",
              "      fill: #FFFFFF;\n",
              "    }\n",
              "  </style>\n",
              "\n",
              "    <script>\n",
              "      const buttonEl =\n",
              "        document.querySelector('#df-39c24767-84ce-4441-977f-fd96cc629680 button.colab-df-convert');\n",
              "      buttonEl.style.display =\n",
              "        google.colab.kernel.accessAllowed ? 'block' : 'none';\n",
              "\n",
              "      async function convertToInteractive(key) {\n",
              "        const element = document.querySelector('#df-39c24767-84ce-4441-977f-fd96cc629680');\n",
              "        const dataTable =\n",
              "          await google.colab.kernel.invokeFunction('convertToInteractive',\n",
              "                                                    [key], {});\n",
              "        if (!dataTable) return;\n",
              "\n",
              "        const docLinkHtml = 'Like what you see? Visit the ' +\n",
              "          '<a target=\"_blank\" href=https://colab.research.google.com/notebooks/data_table.ipynb>data table notebook</a>'\n",
              "          + ' to learn more about interactive tables.';\n",
              "        element.innerHTML = '';\n",
              "        dataTable['output_type'] = 'display_data';\n",
              "        await google.colab.output.renderOutput(dataTable, element);\n",
              "        const docLink = document.createElement('div');\n",
              "        docLink.innerHTML = docLinkHtml;\n",
              "        element.appendChild(docLink);\n",
              "      }\n",
              "    </script>\n",
              "  </div>\n",
              "\n",
              "\n",
              "<div id=\"df-576ccc5f-82be-4104-af8a-734dd08d55a3\">\n",
              "  <button class=\"colab-df-quickchart\" onclick=\"quickchart('df-576ccc5f-82be-4104-af8a-734dd08d55a3')\"\n",
              "            title=\"Suggest charts\"\n",
              "            style=\"display:none;\">\n",
              "\n",
              "<svg xmlns=\"http://www.w3.org/2000/svg\" height=\"24px\"viewBox=\"0 0 24 24\"\n",
              "     width=\"24px\">\n",
              "    <g>\n",
              "        <path d=\"M19 3H5c-1.1 0-2 .9-2 2v14c0 1.1.9 2 2 2h14c1.1 0 2-.9 2-2V5c0-1.1-.9-2-2-2zM9 17H7v-7h2v7zm4 0h-2V7h2v10zm4 0h-2v-4h2v4z\"/>\n",
              "    </g>\n",
              "</svg>\n",
              "  </button>\n",
              "\n",
              "<style>\n",
              "  .colab-df-quickchart {\n",
              "      --bg-color: #E8F0FE;\n",
              "      --fill-color: #1967D2;\n",
              "      --hover-bg-color: #E2EBFA;\n",
              "      --hover-fill-color: #174EA6;\n",
              "      --disabled-fill-color: #AAA;\n",
              "      --disabled-bg-color: #DDD;\n",
              "  }\n",
              "\n",
              "  [theme=dark] .colab-df-quickchart {\n",
              "      --bg-color: #3B4455;\n",
              "      --fill-color: #D2E3FC;\n",
              "      --hover-bg-color: #434B5C;\n",
              "      --hover-fill-color: #FFFFFF;\n",
              "      --disabled-bg-color: #3B4455;\n",
              "      --disabled-fill-color: #666;\n",
              "  }\n",
              "\n",
              "  .colab-df-quickchart {\n",
              "    background-color: var(--bg-color);\n",
              "    border: none;\n",
              "    border-radius: 50%;\n",
              "    cursor: pointer;\n",
              "    display: none;\n",
              "    fill: var(--fill-color);\n",
              "    height: 32px;\n",
              "    padding: 0;\n",
              "    width: 32px;\n",
              "  }\n",
              "\n",
              "  .colab-df-quickchart:hover {\n",
              "    background-color: var(--hover-bg-color);\n",
              "    box-shadow: 0 1px 2px rgba(60, 64, 67, 0.3), 0 1px 3px 1px rgba(60, 64, 67, 0.15);\n",
              "    fill: var(--button-hover-fill-color);\n",
              "  }\n",
              "\n",
              "  .colab-df-quickchart-complete:disabled,\n",
              "  .colab-df-quickchart-complete:disabled:hover {\n",
              "    background-color: var(--disabled-bg-color);\n",
              "    fill: var(--disabled-fill-color);\n",
              "    box-shadow: none;\n",
              "  }\n",
              "\n",
              "  .colab-df-spinner {\n",
              "    border: 2px solid var(--fill-color);\n",
              "    border-color: transparent;\n",
              "    border-bottom-color: var(--fill-color);\n",
              "    animation:\n",
              "      spin 1s steps(1) infinite;\n",
              "  }\n",
              "\n",
              "  @keyframes spin {\n",
              "    0% {\n",
              "      border-color: transparent;\n",
              "      border-bottom-color: var(--fill-color);\n",
              "      border-left-color: var(--fill-color);\n",
              "    }\n",
              "    20% {\n",
              "      border-color: transparent;\n",
              "      border-left-color: var(--fill-color);\n",
              "      border-top-color: var(--fill-color);\n",
              "    }\n",
              "    30% {\n",
              "      border-color: transparent;\n",
              "      border-left-color: var(--fill-color);\n",
              "      border-top-color: var(--fill-color);\n",
              "      border-right-color: var(--fill-color);\n",
              "    }\n",
              "    40% {\n",
              "      border-color: transparent;\n",
              "      border-right-color: var(--fill-color);\n",
              "      border-top-color: var(--fill-color);\n",
              "    }\n",
              "    60% {\n",
              "      border-color: transparent;\n",
              "      border-right-color: var(--fill-color);\n",
              "    }\n",
              "    80% {\n",
              "      border-color: transparent;\n",
              "      border-right-color: var(--fill-color);\n",
              "      border-bottom-color: var(--fill-color);\n",
              "    }\n",
              "    90% {\n",
              "      border-color: transparent;\n",
              "      border-bottom-color: var(--fill-color);\n",
              "    }\n",
              "  }\n",
              "</style>\n",
              "\n",
              "  <script>\n",
              "    async function quickchart(key) {\n",
              "      const quickchartButtonEl =\n",
              "        document.querySelector('#' + key + ' button');\n",
              "      quickchartButtonEl.disabled = true;  // To prevent multiple clicks.\n",
              "      quickchartButtonEl.classList.add('colab-df-spinner');\n",
              "      try {\n",
              "        const charts = await google.colab.kernel.invokeFunction(\n",
              "            'suggestCharts', [key], {});\n",
              "      } catch (error) {\n",
              "        console.error('Error during call to suggestCharts:', error);\n",
              "      }\n",
              "      quickchartButtonEl.classList.remove('colab-df-spinner');\n",
              "      quickchartButtonEl.classList.add('colab-df-quickchart-complete');\n",
              "    }\n",
              "    (() => {\n",
              "      let quickchartButtonEl =\n",
              "        document.querySelector('#df-576ccc5f-82be-4104-af8a-734dd08d55a3 button');\n",
              "      quickchartButtonEl.style.display =\n",
              "        google.colab.kernel.accessAllowed ? 'block' : 'none';\n",
              "    })();\n",
              "  </script>\n",
              "</div>\n",
              "\n",
              "    </div>\n",
              "  </div>\n"
            ],
            "application/vnd.google.colaboratory.intrinsic+json": {
              "type": "dataframe",
              "summary": "{\n  \"name\": \"df\",\n  \"rows\": 20,\n  \"fields\": [\n    {\n      \"column\": \"Titles\",\n      \"properties\": {\n        \"dtype\": \"string\",\n        \"num_unique_values\": 20,\n        \"samples\": [\n          \"A Light in the ...\",\n          \"Mesaerion: The Best Science ...\",\n          \"Our Band Could Be ...\"\n        ],\n        \"semantic_type\": \"\",\n        \"description\": \"\"\n      }\n    },\n    {\n      \"column\": \"Ratings\",\n      \"properties\": {\n        \"dtype\": \"number\",\n        \"std\": 1,\n        \"min\": 1,\n        \"max\": 5,\n        \"num_unique_values\": 5,\n        \"samples\": [\n          1,\n          2,\n          4\n        ],\n        \"semantic_type\": \"\",\n        \"description\": \"\"\n      }\n    },\n    {\n      \"column\": \"Prices (\\u00a3)\",\n      \"properties\": {\n        \"dtype\": \"number\",\n        \"std\": 15.135230520039556,\n        \"min\": 13.99,\n        \"max\": 57.25,\n        \"num_unique_values\": 20,\n        \"samples\": [\n          51.77,\n          37.59,\n          57.25\n        ],\n        \"semantic_type\": \"\",\n        \"description\": \"\"\n      }\n    },\n    {\n      \"column\": \"Availabilities\",\n      \"properties\": {\n        \"dtype\": \"category\",\n        \"num_unique_values\": 1,\n        \"samples\": [\n          \"In stock\"\n        ],\n        \"semantic_type\": \"\",\n        \"description\": \"\"\n      }\n    }\n  ]\n}"
            }
          },
          "metadata": {},
          "execution_count": 37
        }
      ]
    },
    {
      "cell_type": "markdown",
      "source": [
        "What are the most frequent categories in the data? Write your observation in words."
      ],
      "metadata": {
        "id": "35abYFt5YGJP"
      }
    },
    {
      "cell_type": "markdown",
      "source": [
        "Book titles and prices have no frequent categories because all values are unique. The most frequent book rating is \"1\", which means one star. The most frequent category are book availabilities because all of them are \"in stock.\""
      ],
      "metadata": {
        "id": "qiKUJsxAXQ0g"
      }
    }
  ]
}